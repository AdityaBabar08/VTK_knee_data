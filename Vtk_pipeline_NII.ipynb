{
 "cells": [
  {
   "cell_type": "code",
   "execution_count": null,
   "metadata": {},
   "outputs": [],
   "source": [
    "import vtk"
   ]
  },
  {
   "cell_type": "code",
   "execution_count": null,
   "metadata": {},
   "outputs": [],
   "source": [
    "# Create a NIFTI reader\n",
    "PathNifti = r\"C:\\Users\\babar\\Desktop\\Project - 1\\DATA\\Acquired_FA25_downsampled_200um.nii\"\n",
    "reader = vtk.vtkNIFTIImageReader()\n",
    "reader.SetFileName(PathNifti)\n",
    "reader.Update()\n",
    "\n",
    "_extent = reader.GetDataExtent()\n",
    "ConstPixelDims = [_extent[1]-_extent[0]+1, _extent[3]-_extent[2]+1, _extent[5]-_extent[4]+1]\n",
    "# ConstPixelSpacing = reader.GetPixelSpacing()"
   ]
  },
  {
   "cell_type": "code",
   "execution_count": null,
   "metadata": {},
   "outputs": [],
   "source": [
    "threshold = vtk.vtkImageThreshold ()\n",
    "threshold.SetInputConnection(reader.GetOutputPort())\n",
    "threshold.ThresholdByLower(1700000)  # remove all soft tissue\n",
    "threshold.ReplaceInOn()\n",
    "threshold.SetInValue(0)  # set all values below 400 to 0\n",
    "threshold.ReplaceOutOn()\n",
    "threshold.SetOutValue(1)  # set all values above 400 to 1\n",
    "threshold.Update()"
   ]
  },
  {
   "cell_type": "code",
   "execution_count": null,
   "metadata": {},
   "outputs": [],
   "source": [
    "dmc = vtk.vtkDiscreteMarchingCubes()\n",
    "dmc.SetInputConnection(threshold.GetOutputPort())\n",
    "dmc.GenerateValues(1, 1, 1)\n",
    "dmc.Update()"
   ]
  },
  {
   "cell_type": "code",
   "execution_count": null,
   "metadata": {},
   "outputs": [],
   "source": [
    "writer = vtk.vtkSTLWriter()\n",
    "writer.SetInputConnection(dmc.GetOutputPort())\n",
    "writer.SetFileTypeToBinary()\n",
    "writer.SetFileName(\"bones.stl\")\n",
    "writer.Write()"
   ]
  }
 ],
 "metadata": {
  "language_info": {
   "name": "python"
  }
 },
 "nbformat": 4,
 "nbformat_minor": 2
}
