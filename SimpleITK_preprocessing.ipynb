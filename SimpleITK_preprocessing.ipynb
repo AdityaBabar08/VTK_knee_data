{
 "cells": [
  {
   "cell_type": "code",
   "execution_count": 12,
   "metadata": {},
   "outputs": [],
   "source": [
    "import SimpleITK as sitk\n",
    "import matplotlib.pyplot as plt\n"
   ]
  },
  {
   "cell_type": "code",
   "execution_count": 6,
   "metadata": {},
   "outputs": [],
   "source": [
    "folder_path = \"C:/Users/babar/Desktop/Project - 1/vhm_head\""
   ]
  },
  {
   "cell_type": "code",
   "execution_count": 7,
   "metadata": {},
   "outputs": [
    {
     "name": "stdout",
     "output_type": "stream",
     "text": [
      "('C:/Users/babar/Desktop/Project - 1/vhm_head\\\\vhm.1001.dcm', 'C:/Users/babar/Desktop/Project - 1/vhm_head\\\\vhm.1002.dcm', 'C:/Users/babar/Desktop/Project - 1/vhm_head\\\\vhm.1003.dcm', 'C:/Users/babar/Desktop/Project - 1/vhm_head\\\\vhm.1004.dcm', 'C:/Users/babar/Desktop/Project - 1/vhm_head\\\\vhm.1005.dcm', 'C:/Users/babar/Desktop/Project - 1/vhm_head\\\\vhm.1006.dcm', 'C:/Users/babar/Desktop/Project - 1/vhm_head\\\\vhm.1007.dcm', 'C:/Users/babar/Desktop/Project - 1/vhm_head\\\\vhm.1008.dcm', 'C:/Users/babar/Desktop/Project - 1/vhm_head\\\\vhm.1009.dcm', 'C:/Users/babar/Desktop/Project - 1/vhm_head\\\\vhm.1010.dcm', 'C:/Users/babar/Desktop/Project - 1/vhm_head\\\\vhm.1011.dcm', 'C:/Users/babar/Desktop/Project - 1/vhm_head\\\\vhm.1012.dcm', 'C:/Users/babar/Desktop/Project - 1/vhm_head\\\\vhm.1013.dcm', 'C:/Users/babar/Desktop/Project - 1/vhm_head\\\\vhm.1014.dcm', 'C:/Users/babar/Desktop/Project - 1/vhm_head\\\\vhm.1015.dcm', 'C:/Users/babar/Desktop/Project - 1/vhm_head\\\\vhm.1016.dcm', 'C:/Users/babar/Desktop/Project - 1/vhm_head\\\\vhm.1017.dcm', 'C:/Users/babar/Desktop/Project - 1/vhm_head\\\\vhm.1018.dcm', 'C:/Users/babar/Desktop/Project - 1/vhm_head\\\\vhm.1019.dcm', 'C:/Users/babar/Desktop/Project - 1/vhm_head\\\\vhm.1020.dcm', 'C:/Users/babar/Desktop/Project - 1/vhm_head\\\\vhm.1021.dcm', 'C:/Users/babar/Desktop/Project - 1/vhm_head\\\\vhm.1022.dcm', 'C:/Users/babar/Desktop/Project - 1/vhm_head\\\\vhm.1023.dcm', 'C:/Users/babar/Desktop/Project - 1/vhm_head\\\\vhm.1024.dcm', 'C:/Users/babar/Desktop/Project - 1/vhm_head\\\\vhm.1025.dcm', 'C:/Users/babar/Desktop/Project - 1/vhm_head\\\\vhm.1026.dcm', 'C:/Users/babar/Desktop/Project - 1/vhm_head\\\\vhm.1027.dcm', 'C:/Users/babar/Desktop/Project - 1/vhm_head\\\\vhm.1028.dcm', 'C:/Users/babar/Desktop/Project - 1/vhm_head\\\\vhm.1029.dcm', 'C:/Users/babar/Desktop/Project - 1/vhm_head\\\\vhm.1030.dcm', 'C:/Users/babar/Desktop/Project - 1/vhm_head\\\\vhm.1031.dcm', 'C:/Users/babar/Desktop/Project - 1/vhm_head\\\\vhm.1032.dcm', 'C:/Users/babar/Desktop/Project - 1/vhm_head\\\\vhm.1033.dcm', 'C:/Users/babar/Desktop/Project - 1/vhm_head\\\\vhm.1034.dcm', 'C:/Users/babar/Desktop/Project - 1/vhm_head\\\\vhm.1035.dcm', 'C:/Users/babar/Desktop/Project - 1/vhm_head\\\\vhm.1036.dcm', 'C:/Users/babar/Desktop/Project - 1/vhm_head\\\\vhm.1037.dcm', 'C:/Users/babar/Desktop/Project - 1/vhm_head\\\\vhm.1038.dcm', 'C:/Users/babar/Desktop/Project - 1/vhm_head\\\\vhm.1039.dcm', 'C:/Users/babar/Desktop/Project - 1/vhm_head\\\\vhm.1040.dcm', 'C:/Users/babar/Desktop/Project - 1/vhm_head\\\\vhm.1041.dcm', 'C:/Users/babar/Desktop/Project - 1/vhm_head\\\\vhm.1042.dcm', 'C:/Users/babar/Desktop/Project - 1/vhm_head\\\\vhm.1043.dcm', 'C:/Users/babar/Desktop/Project - 1/vhm_head\\\\vhm.1044.dcm', 'C:/Users/babar/Desktop/Project - 1/vhm_head\\\\vhm.1045.dcm', 'C:/Users/babar/Desktop/Project - 1/vhm_head\\\\vhm.1046.dcm', 'C:/Users/babar/Desktop/Project - 1/vhm_head\\\\vhm.1047.dcm', 'C:/Users/babar/Desktop/Project - 1/vhm_head\\\\vhm.1048.dcm', 'C:/Users/babar/Desktop/Project - 1/vhm_head\\\\vhm.1049.dcm', 'C:/Users/babar/Desktop/Project - 1/vhm_head\\\\vhm.1050.dcm', 'C:/Users/babar/Desktop/Project - 1/vhm_head\\\\vhm.1051.dcm', 'C:/Users/babar/Desktop/Project - 1/vhm_head\\\\vhm.1052.dcm', 'C:/Users/babar/Desktop/Project - 1/vhm_head\\\\vhm.1053.dcm', 'C:/Users/babar/Desktop/Project - 1/vhm_head\\\\vhm.1054.dcm', 'C:/Users/babar/Desktop/Project - 1/vhm_head\\\\vhm.1055.dcm', 'C:/Users/babar/Desktop/Project - 1/vhm_head\\\\vhm.1056.dcm', 'C:/Users/babar/Desktop/Project - 1/vhm_head\\\\vhm.1057.dcm', 'C:/Users/babar/Desktop/Project - 1/vhm_head\\\\vhm.1058.dcm', 'C:/Users/babar/Desktop/Project - 1/vhm_head\\\\vhm.1059.dcm', 'C:/Users/babar/Desktop/Project - 1/vhm_head\\\\vhm.1060.dcm', 'C:/Users/babar/Desktop/Project - 1/vhm_head\\\\vhm.1061.dcm', 'C:/Users/babar/Desktop/Project - 1/vhm_head\\\\vhm.1062.dcm', 'C:/Users/babar/Desktop/Project - 1/vhm_head\\\\vhm.1063.dcm', 'C:/Users/babar/Desktop/Project - 1/vhm_head\\\\vhm.1064.dcm', 'C:/Users/babar/Desktop/Project - 1/vhm_head\\\\vhm.1065.dcm', 'C:/Users/babar/Desktop/Project - 1/vhm_head\\\\vhm.1066.dcm', 'C:/Users/babar/Desktop/Project - 1/vhm_head\\\\vhm.1067.dcm', 'C:/Users/babar/Desktop/Project - 1/vhm_head\\\\vhm.1068.dcm', 'C:/Users/babar/Desktop/Project - 1/vhm_head\\\\vhm.1069.dcm', 'C:/Users/babar/Desktop/Project - 1/vhm_head\\\\vhm.1070.dcm', 'C:/Users/babar/Desktop/Project - 1/vhm_head\\\\vhm.1071.dcm', 'C:/Users/babar/Desktop/Project - 1/vhm_head\\\\vhm.1072.dcm', 'C:/Users/babar/Desktop/Project - 1/vhm_head\\\\vhm.1073.dcm', 'C:/Users/babar/Desktop/Project - 1/vhm_head\\\\vhm.1074.dcm', 'C:/Users/babar/Desktop/Project - 1/vhm_head\\\\vhm.1075.dcm', 'C:/Users/babar/Desktop/Project - 1/vhm_head\\\\vhm.1076.dcm', 'C:/Users/babar/Desktop/Project - 1/vhm_head\\\\vhm.1077.dcm', 'C:/Users/babar/Desktop/Project - 1/vhm_head\\\\vhm.1078.dcm', 'C:/Users/babar/Desktop/Project - 1/vhm_head\\\\vhm.1079.dcm', 'C:/Users/babar/Desktop/Project - 1/vhm_head\\\\vhm.1080.dcm', 'C:/Users/babar/Desktop/Project - 1/vhm_head\\\\vhm.1081.dcm', 'C:/Users/babar/Desktop/Project - 1/vhm_head\\\\vhm.1082.dcm', 'C:/Users/babar/Desktop/Project - 1/vhm_head\\\\vhm.1083.dcm', 'C:/Users/babar/Desktop/Project - 1/vhm_head\\\\vhm.1084.dcm', 'C:/Users/babar/Desktop/Project - 1/vhm_head\\\\vhm.1085.dcm', 'C:/Users/babar/Desktop/Project - 1/vhm_head\\\\vhm.1086.dcm', 'C:/Users/babar/Desktop/Project - 1/vhm_head\\\\vhm.1087.dcm', 'C:/Users/babar/Desktop/Project - 1/vhm_head\\\\vhm.1088.dcm', 'C:/Users/babar/Desktop/Project - 1/vhm_head\\\\vhm.1089.dcm', 'C:/Users/babar/Desktop/Project - 1/vhm_head\\\\vhm.1090.dcm', 'C:/Users/babar/Desktop/Project - 1/vhm_head\\\\vhm.1091.dcm', 'C:/Users/babar/Desktop/Project - 1/vhm_head\\\\vhm.1092.dcm', 'C:/Users/babar/Desktop/Project - 1/vhm_head\\\\vhm.1093.dcm', 'C:/Users/babar/Desktop/Project - 1/vhm_head\\\\vhm.1094.dcm', 'C:/Users/babar/Desktop/Project - 1/vhm_head\\\\vhm.1095.dcm', 'C:/Users/babar/Desktop/Project - 1/vhm_head\\\\vhm.1096.dcm', 'C:/Users/babar/Desktop/Project - 1/vhm_head\\\\vhm.1097.dcm', 'C:/Users/babar/Desktop/Project - 1/vhm_head\\\\vhm.1098.dcm', 'C:/Users/babar/Desktop/Project - 1/vhm_head\\\\vhm.1099.dcm', 'C:/Users/babar/Desktop/Project - 1/vhm_head\\\\vhm.1100.dcm', 'C:/Users/babar/Desktop/Project - 1/vhm_head\\\\vhm.1101.dcm', 'C:/Users/babar/Desktop/Project - 1/vhm_head\\\\vhm.1102.dcm', 'C:/Users/babar/Desktop/Project - 1/vhm_head\\\\vhm.1103.dcm', 'C:/Users/babar/Desktop/Project - 1/vhm_head\\\\vhm.1104.dcm', 'C:/Users/babar/Desktop/Project - 1/vhm_head\\\\vhm.1105.dcm', 'C:/Users/babar/Desktop/Project - 1/vhm_head\\\\vhm.1106.dcm', 'C:/Users/babar/Desktop/Project - 1/vhm_head\\\\vhm.1107.dcm', 'C:/Users/babar/Desktop/Project - 1/vhm_head\\\\vhm.1108.dcm', 'C:/Users/babar/Desktop/Project - 1/vhm_head\\\\vhm.1109.dcm', 'C:/Users/babar/Desktop/Project - 1/vhm_head\\\\vhm.1110.dcm', 'C:/Users/babar/Desktop/Project - 1/vhm_head\\\\vhm.1111.dcm', 'C:/Users/babar/Desktop/Project - 1/vhm_head\\\\vhm.1112.dcm', 'C:/Users/babar/Desktop/Project - 1/vhm_head\\\\vhm.1113.dcm', 'C:/Users/babar/Desktop/Project - 1/vhm_head\\\\vhm.1114.dcm', 'C:/Users/babar/Desktop/Project - 1/vhm_head\\\\vhm.1115.dcm', 'C:/Users/babar/Desktop/Project - 1/vhm_head\\\\vhm.1116.dcm', 'C:/Users/babar/Desktop/Project - 1/vhm_head\\\\vhm.1117.dcm', 'C:/Users/babar/Desktop/Project - 1/vhm_head\\\\vhm.1118.dcm', 'C:/Users/babar/Desktop/Project - 1/vhm_head\\\\vhm.1119.dcm', 'C:/Users/babar/Desktop/Project - 1/vhm_head\\\\vhm.1120.dcm', 'C:/Users/babar/Desktop/Project - 1/vhm_head\\\\vhm.1121.dcm', 'C:/Users/babar/Desktop/Project - 1/vhm_head\\\\vhm.1122.dcm', 'C:/Users/babar/Desktop/Project - 1/vhm_head\\\\vhm.1123.dcm', 'C:/Users/babar/Desktop/Project - 1/vhm_head\\\\vhm.1124.dcm', 'C:/Users/babar/Desktop/Project - 1/vhm_head\\\\vhm.1125.dcm', 'C:/Users/babar/Desktop/Project - 1/vhm_head\\\\vhm.1126.dcm', 'C:/Users/babar/Desktop/Project - 1/vhm_head\\\\vhm.1127.dcm', 'C:/Users/babar/Desktop/Project - 1/vhm_head\\\\vhm.1128.dcm', 'C:/Users/babar/Desktop/Project - 1/vhm_head\\\\vhm.1129.dcm', 'C:/Users/babar/Desktop/Project - 1/vhm_head\\\\vhm.1130.dcm', 'C:/Users/babar/Desktop/Project - 1/vhm_head\\\\vhm.1131.dcm', 'C:/Users/babar/Desktop/Project - 1/vhm_head\\\\vhm.1132.dcm', 'C:/Users/babar/Desktop/Project - 1/vhm_head\\\\vhm.1133.dcm', 'C:/Users/babar/Desktop/Project - 1/vhm_head\\\\vhm.1134.dcm', 'C:/Users/babar/Desktop/Project - 1/vhm_head\\\\vhm.1135.dcm', 'C:/Users/babar/Desktop/Project - 1/vhm_head\\\\vhm.1136.dcm', 'C:/Users/babar/Desktop/Project - 1/vhm_head\\\\vhm.1137.dcm', 'C:/Users/babar/Desktop/Project - 1/vhm_head\\\\vhm.1138.dcm', 'C:/Users/babar/Desktop/Project - 1/vhm_head\\\\vhm.1139.dcm', 'C:/Users/babar/Desktop/Project - 1/vhm_head\\\\vhm.1140.dcm', 'C:/Users/babar/Desktop/Project - 1/vhm_head\\\\vhm.1141.dcm', 'C:/Users/babar/Desktop/Project - 1/vhm_head\\\\vhm.1142.dcm', 'C:/Users/babar/Desktop/Project - 1/vhm_head\\\\vhm.1143.dcm', 'C:/Users/babar/Desktop/Project - 1/vhm_head\\\\vhm.1144.dcm', 'C:/Users/babar/Desktop/Project - 1/vhm_head\\\\vhm.1145.dcm', 'C:/Users/babar/Desktop/Project - 1/vhm_head\\\\vhm.1146.dcm', 'C:/Users/babar/Desktop/Project - 1/vhm_head\\\\vhm.1147.dcm', 'C:/Users/babar/Desktop/Project - 1/vhm_head\\\\vhm.1148.dcm', 'C:/Users/babar/Desktop/Project - 1/vhm_head\\\\vhm.1149.dcm', 'C:/Users/babar/Desktop/Project - 1/vhm_head\\\\vhm.1150.dcm', 'C:/Users/babar/Desktop/Project - 1/vhm_head\\\\vhm.1151.dcm', 'C:/Users/babar/Desktop/Project - 1/vhm_head\\\\vhm.1152.dcm', 'C:/Users/babar/Desktop/Project - 1/vhm_head\\\\vhm.1153.dcm', 'C:/Users/babar/Desktop/Project - 1/vhm_head\\\\vhm.1154.dcm', 'C:/Users/babar/Desktop/Project - 1/vhm_head\\\\vhm.1155.dcm', 'C:/Users/babar/Desktop/Project - 1/vhm_head\\\\vhm.1156.dcm', 'C:/Users/babar/Desktop/Project - 1/vhm_head\\\\vhm.1157.dcm', 'C:/Users/babar/Desktop/Project - 1/vhm_head\\\\vhm.1158.dcm', 'C:/Users/babar/Desktop/Project - 1/vhm_head\\\\vhm.1159.dcm', 'C:/Users/babar/Desktop/Project - 1/vhm_head\\\\vhm.1160.dcm', 'C:/Users/babar/Desktop/Project - 1/vhm_head\\\\vhm.1161.dcm', 'C:/Users/babar/Desktop/Project - 1/vhm_head\\\\vhm.1162.dcm', 'C:/Users/babar/Desktop/Project - 1/vhm_head\\\\vhm.1163.dcm', 'C:/Users/babar/Desktop/Project - 1/vhm_head\\\\vhm.1164.dcm', 'C:/Users/babar/Desktop/Project - 1/vhm_head\\\\vhm.1165.dcm', 'C:/Users/babar/Desktop/Project - 1/vhm_head\\\\vhm.1166.dcm', 'C:/Users/babar/Desktop/Project - 1/vhm_head\\\\vhm.1167.dcm', 'C:/Users/babar/Desktop/Project - 1/vhm_head\\\\vhm.1168.dcm', 'C:/Users/babar/Desktop/Project - 1/vhm_head\\\\vhm.1169.dcm', 'C:/Users/babar/Desktop/Project - 1/vhm_head\\\\vhm.1170.dcm', 'C:/Users/babar/Desktop/Project - 1/vhm_head\\\\vhm.1171.dcm', 'C:/Users/babar/Desktop/Project - 1/vhm_head\\\\vhm.1172.dcm', 'C:/Users/babar/Desktop/Project - 1/vhm_head\\\\vhm.1173.dcm', 'C:/Users/babar/Desktop/Project - 1/vhm_head\\\\vhm.1174.dcm', 'C:/Users/babar/Desktop/Project - 1/vhm_head\\\\vhm.1175.dcm', 'C:/Users/babar/Desktop/Project - 1/vhm_head\\\\vhm.1176.dcm', 'C:/Users/babar/Desktop/Project - 1/vhm_head\\\\vhm.1177.dcm', 'C:/Users/babar/Desktop/Project - 1/vhm_head\\\\vhm.1178.dcm', 'C:/Users/babar/Desktop/Project - 1/vhm_head\\\\vhm.1179.dcm', 'C:/Users/babar/Desktop/Project - 1/vhm_head\\\\vhm.1180.dcm', 'C:/Users/babar/Desktop/Project - 1/vhm_head\\\\vhm.1181.dcm', 'C:/Users/babar/Desktop/Project - 1/vhm_head\\\\vhm.1182.dcm', 'C:/Users/babar/Desktop/Project - 1/vhm_head\\\\vhm.1183.dcm', 'C:/Users/babar/Desktop/Project - 1/vhm_head\\\\vhm.1184.dcm', 'C:/Users/babar/Desktop/Project - 1/vhm_head\\\\vhm.1185.dcm', 'C:/Users/babar/Desktop/Project - 1/vhm_head\\\\vhm.1186.dcm', 'C:/Users/babar/Desktop/Project - 1/vhm_head\\\\vhm.1187.dcm', 'C:/Users/babar/Desktop/Project - 1/vhm_head\\\\vhm.1188.dcm', 'C:/Users/babar/Desktop/Project - 1/vhm_head\\\\vhm.1189.dcm', 'C:/Users/babar/Desktop/Project - 1/vhm_head\\\\vhm.1190.dcm', 'C:/Users/babar/Desktop/Project - 1/vhm_head\\\\vhm.1191.dcm', 'C:/Users/babar/Desktop/Project - 1/vhm_head\\\\vhm.1192.dcm', 'C:/Users/babar/Desktop/Project - 1/vhm_head\\\\vhm.1193.dcm', 'C:/Users/babar/Desktop/Project - 1/vhm_head\\\\vhm.1194.dcm', 'C:/Users/babar/Desktop/Project - 1/vhm_head\\\\vhm.1195.dcm', 'C:/Users/babar/Desktop/Project - 1/vhm_head\\\\vhm.1196.dcm', 'C:/Users/babar/Desktop/Project - 1/vhm_head\\\\vhm.1197.dcm', 'C:/Users/babar/Desktop/Project - 1/vhm_head\\\\vhm.1198.dcm', 'C:/Users/babar/Desktop/Project - 1/vhm_head\\\\vhm.1199.dcm', 'C:/Users/babar/Desktop/Project - 1/vhm_head\\\\vhm.1200.dcm', 'C:/Users/babar/Desktop/Project - 1/vhm_head\\\\vhm.1201.dcm', 'C:/Users/babar/Desktop/Project - 1/vhm_head\\\\vhm.1202.dcm', 'C:/Users/babar/Desktop/Project - 1/vhm_head\\\\vhm.1203.dcm', 'C:/Users/babar/Desktop/Project - 1/vhm_head\\\\vhm.1204.dcm', 'C:/Users/babar/Desktop/Project - 1/vhm_head\\\\vhm.1205.dcm', 'C:/Users/babar/Desktop/Project - 1/vhm_head\\\\vhm.1206.dcm', 'C:/Users/babar/Desktop/Project - 1/vhm_head\\\\vhm.1207.dcm', 'C:/Users/babar/Desktop/Project - 1/vhm_head\\\\vhm.1208.dcm', 'C:/Users/babar/Desktop/Project - 1/vhm_head\\\\vhm.1209.dcm', 'C:/Users/babar/Desktop/Project - 1/vhm_head\\\\vhm.1210.dcm', 'C:/Users/babar/Desktop/Project - 1/vhm_head\\\\vhm.1211.dcm', 'C:/Users/babar/Desktop/Project - 1/vhm_head\\\\vhm.1212.dcm', 'C:/Users/babar/Desktop/Project - 1/vhm_head\\\\vhm.1213.dcm', 'C:/Users/babar/Desktop/Project - 1/vhm_head\\\\vhm.1214.dcm', 'C:/Users/babar/Desktop/Project - 1/vhm_head\\\\vhm.1215.dcm', 'C:/Users/babar/Desktop/Project - 1/vhm_head\\\\vhm.1216.dcm', 'C:/Users/babar/Desktop/Project - 1/vhm_head\\\\vhm.1217.dcm', 'C:/Users/babar/Desktop/Project - 1/vhm_head\\\\vhm.1218.dcm', 'C:/Users/babar/Desktop/Project - 1/vhm_head\\\\vhm.1219.dcm', 'C:/Users/babar/Desktop/Project - 1/vhm_head\\\\vhm.1220.dcm', 'C:/Users/babar/Desktop/Project - 1/vhm_head\\\\vhm.1221.dcm', 'C:/Users/babar/Desktop/Project - 1/vhm_head\\\\vhm.1222.dcm', 'C:/Users/babar/Desktop/Project - 1/vhm_head\\\\vhm.1223.dcm', 'C:/Users/babar/Desktop/Project - 1/vhm_head\\\\vhm.1224.dcm', 'C:/Users/babar/Desktop/Project - 1/vhm_head\\\\vhm.1225.dcm', 'C:/Users/babar/Desktop/Project - 1/vhm_head\\\\vhm.1226.dcm', 'C:/Users/babar/Desktop/Project - 1/vhm_head\\\\vhm.1227.dcm', 'C:/Users/babar/Desktop/Project - 1/vhm_head\\\\vhm.1228.dcm', 'C:/Users/babar/Desktop/Project - 1/vhm_head\\\\vhm.1229.dcm', 'C:/Users/babar/Desktop/Project - 1/vhm_head\\\\vhm.1230.dcm', 'C:/Users/babar/Desktop/Project - 1/vhm_head\\\\vhm.1231.dcm', 'C:/Users/babar/Desktop/Project - 1/vhm_head\\\\vhm.1232.dcm', 'C:/Users/babar/Desktop/Project - 1/vhm_head\\\\vhm.1233.dcm', 'C:/Users/babar/Desktop/Project - 1/vhm_head\\\\vhm.1234.dcm', 'C:/Users/babar/Desktop/Project - 1/vhm_head\\\\vhm.1235.dcm', 'C:/Users/babar/Desktop/Project - 1/vhm_head\\\\vhm.1236.dcm', 'C:/Users/babar/Desktop/Project - 1/vhm_head\\\\vhm.1237.dcm', 'C:/Users/babar/Desktop/Project - 1/vhm_head\\\\vhm.1238.dcm', 'C:/Users/babar/Desktop/Project - 1/vhm_head\\\\vhm.1239.dcm', 'C:/Users/babar/Desktop/Project - 1/vhm_head\\\\vhm.1240.dcm', 'C:/Users/babar/Desktop/Project - 1/vhm_head\\\\vhm.1241.dcm', 'C:/Users/babar/Desktop/Project - 1/vhm_head\\\\vhm.1242.dcm', 'C:/Users/babar/Desktop/Project - 1/vhm_head\\\\vhm.1243.dcm', 'C:/Users/babar/Desktop/Project - 1/vhm_head\\\\vhm.1244.dcm', 'C:/Users/babar/Desktop/Project - 1/vhm_head\\\\vhm.1245.dcm')\n"
     ]
    }
   ],
   "source": [
    "reader = sitk.ImageSeriesReader()\n",
    "dicom_series = reader.GetGDCMSeriesFileNames(folder_path)\n",
    "print(dicom_series)"
   ]
  },
  {
   "cell_type": "code",
   "execution_count": 8,
   "metadata": {},
   "outputs": [],
   "source": [
    "image = sitk.ReadImage(dicom_series)"
   ]
  },
  {
   "cell_type": "code",
   "execution_count": 9,
   "metadata": {},
   "outputs": [],
   "source": [
    "image_array = sitk.GetArrayFromImage(image)"
   ]
  },
  {
   "cell_type": "code",
   "execution_count": 10,
   "metadata": {},
   "outputs": [
    {
     "data": {
      "text/plain": [
       "(245, 512, 512)"
      ]
     },
     "execution_count": 10,
     "metadata": {},
     "output_type": "execute_result"
    }
   ],
   "source": [
    "image_array.shape"
   ]
  },
  {
   "cell_type": "code",
   "execution_count": 19,
   "metadata": {},
   "outputs": [],
   "source": [
    "bone_min_intensity = 300  # Minimum intensity for bones\n",
    "bone_max_intensity = 1017  # Maximum intensity for bones\n",
    "\n",
    "# Apply intensity windowing to highlight bones (setting other tissues as transparent)\n",
    "# windowed_image = sitk.IntensityWindowing(image, bone_min_intensity, bone_max_intensity, 0, 255)\n",
    "\n",
    "threshold_value = 400  # Threshold value for bone removal\n",
    "thresholded_image = sitk.BinaryThreshold(image, lowerThreshold=threshold_value, upperThreshold=1017, insideValue=1, outsideValue=0)\n",
    "\n",
    "\n",
    "# Convert to a NumPy array for further processing or visualization\n",
    "numpy_array = sitk.GetArrayFromImage(thresholded_image)"
   ]
  },
  {
   "cell_type": "code",
   "execution_count": 20,
   "metadata": {},
   "outputs": [
    {
     "data": {
      "image/png": "[encoded data removed]",
      "text/plain": [
       "<Figure size 640x480 with 1 Axes>"
      ]
     },
     "metadata": {},
     "output_type": "display_data"
    }
   ],
   "source": [
    "plt.imshow(numpy_array[:, 256, :].T, cmap='gray')  # Assuming you want to visualize the middle slice\n",
    "plt.show()"
   ]
  },
  {
   "cell_type": "code",
   "execution_count": 21,
   "metadata": {},
   "outputs": [],
   "source": [
    "import vtk"
   ]
  },
  {
   "cell_type": "code",
   "execution_count": 22,
   "metadata": {},
   "outputs": [],
   "source": [
    "vtk_image = vtk.vtkImageData()\n",
    "vtk_image.SetDimensions(numpy_array.shape[2], numpy_array.shape[1], numpy_array.shape[0])\n",
    "vtk_image.AllocateScalars(vtk.VTK_DOUBLE, 1)"
   ]
  },
  {
   "cell_type": "code",
   "execution_count": 23,
   "metadata": {},
   "outputs": [],
   "source": [
    "for z in range(numpy_array.shape[0]):\n",
    "    for y in range(numpy_array.shape[1]):\n",
    "        for x in range(numpy_array.shape[2]):\n",
    "            vtk_image.SetScalarComponentFromDouble(x, y, z, 0, numpy_array[z, y, x])"
   ]
  },
  {
   "cell_type": "code",
   "execution_count": 24,
   "metadata": {},
   "outputs": [],
   "source": [
    "volume_property = vtk.vtkVolumeProperty()\n",
    "volume_property.ShadeOn()\n",
    "volume_property.SetInterpolationTypeToLinear()"
   ]
  },
  {
   "cell_type": "code",
   "execution_count": 25,
   "metadata": {},
   "outputs": [],
   "source": [
    "color_func = vtk.vtkColorTransferFunction()\n",
    "opacity_func = vtk.vtkPiecewiseFunction()"
   ]
  },
  {
   "cell_type": "code",
   "execution_count": 26,
   "metadata": {},
   "outputs": [
    {
     "data": {
      "text/plain": [
       "1"
      ]
     },
     "execution_count": 26,
     "metadata": {},
     "output_type": "execute_result"
    }
   ],
   "source": [
    "color_func.AddRGBPoint(300, 0.0, 0.0, 0.0)    # Color for lower bone density values (black in this example)\n",
    "color_func.AddRGBPoint(1017, 1.0, 1.0, 1.0)  # Color for higher bone density values (white in this example)"
   ]
  },
  {
   "cell_type": "code",
   "execution_count": 27,
   "metadata": {},
   "outputs": [
    {
     "data": {
      "text/plain": [
       "1"
      ]
     },
     "execution_count": 27,
     "metadata": {},
     "output_type": "execute_result"
    }
   ],
   "source": [
    "opacity_func.AddPoint(300, 0.0)    # Opacity for lower bone density values\n",
    "opacity_func.AddPoint(1017, 1.0) "
   ]
  },
  {
   "cell_type": "code",
   "execution_count": 28,
   "metadata": {},
   "outputs": [],
   "source": [
    "volume_mapper = vtk.vtkSmartVolumeMapper()\n",
    "volume_mapper.SetBlendModeToComposite()  # Set your blend mode as needed\n",
    "volume_mapper.SetInputData(vtk_image)"
   ]
  },
  {
   "cell_type": "code",
   "execution_count": 29,
   "metadata": {},
   "outputs": [],
   "source": [
    "volume = vtk.vtkVolume()\n",
    "volume.SetMapper(volume_mapper)\n",
    "volume.SetProperty(volume_property)"
   ]
  },
  {
   "cell_type": "code",
   "execution_count": 30,
   "metadata": {},
   "outputs": [],
   "source": [
    "renderer = vtk.vtkRenderer()\n",
    "render_window = vtk.vtkRenderWindow()\n",
    "render_window.AddRenderer(renderer)"
   ]
  },
  {
   "cell_type": "code",
   "execution_count": 31,
   "metadata": {},
   "outputs": [],
   "source": [
    "renderer.AddVolume(volume)"
   ]
  },
  {
   "cell_type": "code",
   "execution_count": 32,
   "metadata": {},
   "outputs": [],
   "source": [
    "interactor = vtk.vtkRenderWindowInteractor()\n",
    "interactor.SetRenderWindow(render_window)"
   ]
  },
  {
   "cell_type": "code",
   "execution_count": null,
   "metadata": {},
   "outputs": [],
   "source": [
    "render_window.Render()\n",
    "interactor.Start()"
   ]
  }
 ],
 "metadata": {
  "kernelspec": {
   "display_name": "venv",
   "language": "python",
   "name": "python3"
  },
  "language_info": {
   "codemirror_mode": {
    "name": "ipython",
    "version": 3
   },
   "file_extension": ".py",
   "mimetype": "text/x-python",
   "name": "python",
   "nbconvert_exporter": "python",
   "pygments_lexer": "ipython3",
   "version": "3.12.0"
  }
 },
 "nbformat": 4,
 "nbformat_minor": 2
}
