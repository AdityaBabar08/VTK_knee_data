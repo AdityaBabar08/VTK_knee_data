{
 "cells": [
  {
   "cell_type": "code",
   "execution_count": 1,
   "metadata": {},
   "outputs": [],
   "source": [
    "import vtk"
   ]
  },
  {
   "cell_type": "code",
   "execution_count": 12,
   "metadata": {},
   "outputs": [],
   "source": [
    "PathDicom = \"Input_data\"\n",
    "reader = vtk.vtkDICOMImageReader()\n",
    "reader.SetDirectoryName(PathDicom)\n",
    "reader.Update()\n",
    "\n",
    "_extent = reader.GetDataExtent()\n",
    "ConstPixelDims = [_extent[1]-_extent[0]+1, _extent[3]-_extent[2]+1, _extent[5]-_extent[4]+1]\n",
    "ConstPixelSpacing = reader.GetPixelSpacing()"
   ]
  },
  {
   "cell_type": "code",
   "execution_count": 14,
   "metadata": {},
   "outputs": [],
   "source": [
    "threshold = vtk.vtkImageThreshold ()\n",
    "threshold.SetInputConnection(reader.GetOutputPort())\n",
    "threshold.ThresholdByLower(40)  # remove all soft tissue\n",
    "threshold.ReplaceInOn()\n",
    "threshold.SetInValue(0)  # set all values below 400 to 0\n",
    "threshold.ReplaceOutOn()\n",
    "threshold.SetOutValue(1)  # set all values above 400 to 1\n",
    "threshold.Update()"
   ]
  },
  {
   "cell_type": "code",
   "execution_count": 4,
   "metadata": {},
   "outputs": [],
   "source": [
    "dmc = vtk.vtkDiscreteMarchingCubes()\n",
    "dmc.SetInputConnection(threshold.GetOutputPort())\n",
    "dmc.GenerateValues(1, 1, 1)\n",
    "dmc.Update()"
   ]
  },
  {
   "cell_type": "code",
   "execution_count": 5,
   "metadata": {},
   "outputs": [
    {
     "data": {
      "text/plain": [
       "1"
      ]
     },
     "execution_count": 5,
     "metadata": {},
     "output_type": "execute_result"
    }
   ],
   "source": [
    "writer = vtk.vtkSTLWriter()\n",
    "writer.SetInputConnection(dmc.GetOutputPort())\n",
    "writer.SetFileTypeToBinary()\n",
    "writer.SetFileName(\"bones.stl\")\n",
    "writer.Write()"
   ]
  }
 ],
 "metadata": {
  "kernelspec": {
   "display_name": "venv",
   "language": "python",
   "name": "python3"
  },
  "language_info": {
   "codemirror_mode": {
    "name": "ipython",
    "version": 3
   },
   "file_extension": ".py",
   "mimetype": "text/x-python",
   "name": "python",
   "nbconvert_exporter": "python",
   "pygments_lexer": "ipython3",
   "version": "3.12.0"
  }
 },
 "nbformat": 4,
 "nbformat_minor": 2
}
