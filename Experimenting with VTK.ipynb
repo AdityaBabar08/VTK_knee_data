{
 "cells": [
  {
   "cell_type": "code",
   "execution_count": 1,
   "metadata": {},
   "outputs": [],
   "source": [
    "import numpy as np\n",
    "import SimpleITK as sitk\n",
    "import os\n"
   ]
  },
  {
   "cell_type": "code",
   "execution_count": 2,
   "metadata": {},
   "outputs": [],
   "source": [
    "folder_path = \"C:/Users/babar/Desktop/Project - 1/vhm_head\""
   ]
  },
  {
   "cell_type": "code",
   "execution_count": 4,
   "metadata": {},
   "outputs": [
    {
     "name": "stdout",
     "output_type": "stream",
     "text": [
      "('C:/Users/babar/Desktop/Project - 1/DATA/series-00000/Axial\\\\image-00000.dcm', 'C:/Users/babar/Desktop/Project - 1/DATA/series-00000/Axial\\\\image-00001.dcm', 'C:/Users/babar/Desktop/Project - 1/DATA/series-00000/Axial\\\\image-00002.dcm', 'C:/Users/babar/Desktop/Project - 1/DATA/series-00000/Axial\\\\image-00003.dcm', 'C:/Users/babar/Desktop/Project - 1/DATA/series-00000/Axial\\\\image-00004.dcm', 'C:/Users/babar/Desktop/Project - 1/DATA/series-00000/Axial\\\\image-00005.dcm', 'C:/Users/babar/Desktop/Project - 1/DATA/series-00000/Axial\\\\image-00006.dcm', 'C:/Users/babar/Desktop/Project - 1/DATA/series-00000/Axial\\\\image-00007.dcm', 'C:/Users/babar/Desktop/Project - 1/DATA/series-00000/Axial\\\\image-00008.dcm')\n"
     ]
    }
   ],
   "source": [
    "reader = sitk.ImageSeriesReader()\n",
    "dicom_series = reader.GetGDCMSeriesFileNames(folder_path)\n",
    "# print(dicom_series)"
   ]
  },
  {
   "cell_type": "code",
   "execution_count": 12,
   "metadata": {},
   "outputs": [],
   "source": [
    "image = sitk.ReadImage(dicom_series)"
   ]
  },
  {
   "cell_type": "code",
   "execution_count": 7,
   "metadata": {},
   "outputs": [],
   "source": [
    "image_array = sitk.GetArrayFromImage(image)"
   ]
  },
  {
   "cell_type": "code",
   "execution_count": 9,
   "metadata": {},
   "outputs": [
    {
     "data": {
      "text/plain": [
       "(0, 2226)"
      ]
     },
     "execution_count": 9,
     "metadata": {},
     "output_type": "execute_result"
    }
   ],
   "source": [
    "image_array[0].min(), image_array[0].max()"
   ]
  },
  {
   "cell_type": "code",
   "execution_count": 16,
   "metadata": {},
   "outputs": [
    {
     "data": {
      "text/plain": [
       "(9, 256, 256)"
      ]
     },
     "execution_count": 16,
     "metadata": {},
     "output_type": "execute_result"
    }
   ],
   "source": [
    "image_array.shape"
   ]
  },
  {
   "cell_type": "code",
   "execution_count": 17,
   "metadata": {},
   "outputs": [],
   "source": [
    "import vtk"
   ]
  },
  {
   "cell_type": "code",
   "execution_count": 18,
   "metadata": {},
   "outputs": [],
   "source": [
    "vtk_image = vtk.vtkImageData()\n",
    "vtk_image.SetDimensions(image_array.shape[2], image_array.shape[1], image_array.shape[0])\n",
    "vtk_image.AllocateScalars(vtk.VTK_DOUBLE, 1)"
   ]
  },
  {
   "cell_type": "code",
   "execution_count": 19,
   "metadata": {},
   "outputs": [],
   "source": [
    "for z in range(image_array.shape[0]):\n",
    "    for y in range(image_array.shape[1]):\n",
    "        for x in range(image_array.shape[2]):\n",
    "            vtk_image.SetScalarComponentFromDouble(x, y, z, 0, image_array[z, y, x])"
   ]
  },
  {
   "cell_type": "code",
   "execution_count": 20,
   "metadata": {},
   "outputs": [],
   "source": [
    "volume_property = vtk.vtkVolumeProperty()\n",
    "volume_property.ShadeOn()\n",
    "volume_property.SetInterpolationTypeToLinear()"
   ]
  },
  {
   "cell_type": "code",
   "execution_count": 21,
   "metadata": {},
   "outputs": [],
   "source": [
    "color_func = vtk.vtkColorTransferFunction()\n",
    "opacity_func = vtk.vtkPiecewiseFunction()"
   ]
  },
  {
   "cell_type": "code",
   "execution_count": 22,
   "metadata": {},
   "outputs": [
    {
     "data": {
      "text/plain": [
       "1"
      ]
     },
     "execution_count": 22,
     "metadata": {},
     "output_type": "execute_result"
    }
   ],
   "source": [
    "color_func.AddRGBPoint(0, 0.0, 0.0, 0.0)      \n",
    "color_func.AddRGBPoint(2226, 1.0, 1.0, 1.0)"
   ]
  },
  {
   "cell_type": "code",
   "execution_count": 23,
   "metadata": {},
   "outputs": [
    {
     "data": {
      "text/plain": [
       "1"
      ]
     },
     "execution_count": 23,
     "metadata": {},
     "output_type": "execute_result"
    }
   ],
   "source": [
    "opacity_func.AddPoint(0, 0.0)\n",
    "opacity_func.AddPoint(2226, 1.0)"
   ]
  },
  {
   "cell_type": "code",
   "execution_count": 24,
   "metadata": {},
   "outputs": [],
   "source": [
    "volume_mapper = vtk.vtkSmartVolumeMapper()\n",
    "volume_mapper.SetBlendModeToComposite()  # Set your blend mode as needed\n",
    "volume_mapper.SetInputData(vtk_image)"
   ]
  },
  {
   "cell_type": "code",
   "execution_count": 25,
   "metadata": {},
   "outputs": [],
   "source": [
    "volume = vtk.vtkVolume()\n",
    "volume.SetMapper(volume_mapper)\n",
    "volume.SetProperty(volume_property)"
   ]
  },
  {
   "cell_type": "code",
   "execution_count": null,
   "metadata": {},
   "outputs": [],
   "source": [
    "renderer = vtk.vtkRenderer()\n",
    "render_window = vtk.vtkRenderWindow()\n",
    "render_window.AddRenderer(renderer)"
   ]
  },
  {
   "cell_type": "code",
   "execution_count": null,
   "metadata": {},
   "outputs": [],
   "source": [
    "renderer.AddVolume(volume)"
   ]
  },
  {
   "cell_type": "code",
   "execution_count": null,
   "metadata": {},
   "outputs": [],
   "source": [
    "interactor = vtk.vtkRenderWindowInteractor()\n",
    "interactor.SetRenderWindow(render_window)"
   ]
  },
  {
   "cell_type": "code",
   "execution_count": null,
   "metadata": {},
   "outputs": [],
   "source": [
    "render_window.Render()\n",
    "interactor.Start()"
   ]
  }
 ],
 "metadata": {
  "kernelspec": {
   "display_name": "venv",
   "language": "python",
   "name": "python3"
  },
  "language_info": {
   "codemirror_mode": {
    "name": "ipython",
    "version": 3
   },
   "file_extension": ".py",
   "mimetype": "text/x-python",
   "name": "python",
   "nbconvert_exporter": "python",
   "pygments_lexer": "ipython3",
   "version": "3.12.0"
  }
 },
 "nbformat": 4,
 "nbformat_minor": 2
}
