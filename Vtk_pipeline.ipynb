{
 "cells": [
  {
   "cell_type": "code",
   "execution_count": 1,
   "metadata": {},
   "outputs": [],
   "source": [
    "import vtk"
   ]
  },
  {
   "cell_type": "code",
   "execution_count": 7,
   "metadata": {},
   "outputs": [],
   "source": [
    "PathDicom = \"Input_data\"\n",
    "reader = vtk.vtkDICOMImageReader()\n",
    "reader.SetDirectoryName(PathDicom)\n",
    "reader.Update()\n",
    "\n",
    "_extent = reader.GetDataExtent()\n",
    "ConstPixelDims = [_extent[1]-_extent[0]+1, _extent[3]-_extent[2]+1, _extent[5]-_extent[4]+1]\n",
    "ConstPixelSpacing = reader.GetPixelSpacing()"
   ]
  },
  {
   "cell_type": "code",
   "execution_count": 2,
   "metadata": {},
   "outputs": [
    {
     "ename": "AttributeError",
     "evalue": "'vtkmodules.vtkIOImage.vtkDICOMImageReader' object has no attribute 'GetDICOMHeader'",
     "output_type": "error",
     "traceback": [
      "\u001b[1;31m---------------------------------------------------------------------------\u001b[0m",
      "\u001b[1;31mAttributeError\u001b[0m                            Traceback (most recent call last)",
      "\u001b[1;32mc:\\Users\\babar\\Desktop\\Project\\Vtk_pipeline.ipynb Cell 3\u001b[0m line \u001b[0;36m6\n\u001b[0;32m      <a href='vscode-notebook-cell:/c%3A/Users/babar/Desktop/Project/Vtk_pipeline.ipynb#X10sZmlsZQ%3D%3D?line=2'>3</a>\u001b[0m reader\u001b[39m.\u001b[39mSetDirectoryName(PathDicom)\n\u001b[0;32m      <a href='vscode-notebook-cell:/c%3A/Users/babar/Desktop/Project/Vtk_pipeline.ipynb#X10sZmlsZQ%3D%3D?line=3'>4</a>\u001b[0m reader\u001b[39m.\u001b[39mUpdate()\n\u001b[1;32m----> <a href='vscode-notebook-cell:/c%3A/Users/babar/Desktop/Project/Vtk_pipeline.ipynb#X10sZmlsZQ%3D%3D?line=5'>6</a>\u001b[0m header \u001b[39m=\u001b[39m reader\u001b[39m.\u001b[39;49mGetDICOMHeader()\n\u001b[0;32m      <a href='vscode-notebook-cell:/c%3A/Users/babar/Desktop/Project/Vtk_pipeline.ipynb#X10sZmlsZQ%3D%3D?line=7'>8</a>\u001b[0m \u001b[39mfor\u001b[39;00m i \u001b[39min\u001b[39;00m \u001b[39mrange\u001b[39m (header\u001b[39m.\u001b[39mGetNumberOfKeyInstances()):\n\u001b[0;32m      <a href='vscode-notebook-cell:/c%3A/Users/babar/Desktop/Project/Vtk_pipeline.ipynb#X10sZmlsZQ%3D%3D?line=8'>9</a>\u001b[0m     key \u001b[39m=\u001b[39m header\u001b[39m.\u001b[39mGetKeyFromInstance(i)\n",
      "\u001b[1;31mAttributeError\u001b[0m: 'vtkmodules.vtkIOImage.vtkDICOMImageReader' object has no attribute 'GetDICOMHeader'"
     ]
    }
   ],
   "source": [
    "PathDicom = \"Input_data\"\n",
    "reader = vtk.vtkDICOMImageReader()\n",
    "reader.SetDirectoryName(PathDicom)\n",
    "reader.Update()\n",
    "\n",
    "header = reader.GetMetaData\n",
    "\n",
    "for i in range (header.GetNumberOfKeyInstances()):\n",
    "    key = header.GetKeyFromInstance(i)\n",
    "    value = header.GetValueFromInstance(i)\n",
    "    print(f\"Key: {key}, value: {value}\")\n"
   ]
  },
  {
   "cell_type": "code",
   "execution_count": null,
   "metadata": {},
   "outputs": [],
   "source": [
    "ArrayDicom = vtk.vtkImageToNumPy(reader.GetOutput(), ConstPixelDims)\n",
    "plotHeatmap(numpy.rot90(ArrayDicom[:, 256, :]))"
   ]
  },
  {
   "cell_type": "code",
   "execution_count": 8,
   "metadata": {},
   "outputs": [],
   "source": [
    "threshold = vtk.vtkImageThreshold ()\n",
    "threshold.SetInputConnection(reader.GetOutputPort())\n",
    "threshold.ThresholdByLower(40)  # remove all soft tissue\n",
    "threshold.ReplaceInOn()\n",
    "threshold.SetInValue(0)  # set all values below 400 to 0\n",
    "threshold.ReplaceOutOn()\n",
    "threshold.SetOutValue(1)  # set all values above 400 to 1\n",
    "threshold.Update()"
   ]
  },
  {
   "cell_type": "code",
   "execution_count": 9,
   "metadata": {},
   "outputs": [],
   "source": [
    "dmc = vtk.vtkDiscreteMarchingCubes()\n",
    "dmc.SetInputConnection(threshold.GetOutputPort())\n",
    "dmc.GenerateValues(1, 1, 1)\n",
    "dmc.Update()"
   ]
  },
  {
   "cell_type": "code",
   "execution_count": 5,
   "metadata": {},
   "outputs": [
    {
     "ename": "AttributeError",
     "evalue": "module 'vtk' has no attribute 'vtk_show'",
     "output_type": "error",
     "traceback": [
      "\u001b[1;31m---------------------------------------------------------------------------\u001b[0m",
      "\u001b[1;31mAttributeError\u001b[0m                            Traceback (most recent call last)",
      "\u001b[1;32mc:\\Users\\babar\\Desktop\\Project\\Vtk_pipeline.ipynb Cell 6\u001b[0m line \u001b[0;36m1\n\u001b[0;32m     <a href='vscode-notebook-cell:/c%3A/Users/babar/Desktop/Project/Vtk_pipeline.ipynb#W5sZmlsZQ%3D%3D?line=14'>15</a>\u001b[0m camera\u001b[39m.\u001b[39mSetRoll(\u001b[39m-\u001b[39m\u001b[39m90.0\u001b[39m)\n\u001b[0;32m     <a href='vscode-notebook-cell:/c%3A/Users/babar/Desktop/Project/Vtk_pipeline.ipynb#W5sZmlsZQ%3D%3D?line=15'>16</a>\u001b[0m renderer\u001b[39m.\u001b[39mSetActiveCamera(camera)\n\u001b[1;32m---> <a href='vscode-notebook-cell:/c%3A/Users/babar/Desktop/Project/Vtk_pipeline.ipynb#W5sZmlsZQ%3D%3D?line=16'>17</a>\u001b[0m vtk\u001b[39m.\u001b[39;49mvtk_show(renderer, \u001b[39m600\u001b[39m, \u001b[39m600\u001b[39m)\n",
      "\u001b[1;31mAttributeError\u001b[0m: module 'vtk' has no attribute 'vtk_show'"
     ]
    }
   ],
   "source": [
    "mapper = vtk.vtkPolyDataMapper()\n",
    "mapper.SetInputConnection(dmc.GetOutputPort())\n",
    "\n",
    "actor = vtk.vtkActor()\n",
    "actor.SetMapper(mapper)\n",
    "\n",
    "renderer = vtk.vtkRenderer()\n",
    "renderer.AddActor(actor)\n",
    "renderer.SetBackground(1.0, 1.0, 1.0)\n",
    "\n",
    "camera = renderer.MakeCamera()\n",
    "camera.SetPosition(-500.0, 245.5, 122.0)\n",
    "camera.SetFocalPoint(301.0, 245.5, 122.0)\n",
    "camera.SetViewAngle(30.0)\n",
    "camera.SetRoll(-90.0)\n",
    "renderer.SetActiveCamera(camera)\n",
    "vtk.vtk_show(renderer, 600, 600)"
   ]
  },
  {
   "cell_type": "code",
   "execution_count": 10,
   "metadata": {},
   "outputs": [
    {
     "data": {
      "text/plain": [
       "1"
      ]
     },
     "execution_count": 10,
     "metadata": {},
     "output_type": "execute_result"
    }
   ],
   "source": [
    "writer = vtk.vtkSTLWriter()\n",
    "writer.SetInputConnection(dmc.GetOutputPort())\n",
    "writer.SetFileTypeToBinary()\n",
    "writer.SetFileName(\"bones.stl\")\n",
    "writer.Write()"
   ]
  }
 ],
 "metadata": {
  "kernelspec": {
   "display_name": "venv",
   "language": "python",
   "name": "python3"
  },
  "language_info": {
   "codemirror_mode": {
    "name": "ipython",
    "version": 3
   },
   "file_extension": ".py",
   "mimetype": "text/x-python",
   "name": "python",
   "nbconvert_exporter": "python",
   "pygments_lexer": "ipython3",
   "version": "3.12.0"
  }
 },
 "nbformat": 4,
 "nbformat_minor": 2
}
